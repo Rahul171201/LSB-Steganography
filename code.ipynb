{
 "cells": [
  {
   "cell_type": "code",
   "execution_count": 28,
   "metadata": {},
   "outputs": [],
   "source": [
    "import numpy as np\n",
    "import types\n",
    "import cv2 as cv\n",
    "# cv.imshow() -> to display image"
   ]
  },
  {
   "cell_type": "code",
   "execution_count": 29,
   "metadata": {},
   "outputs": [],
   "source": [
    "#function to convert any type of data into binary\n",
    "def messageToBinary(message):\n",
    "    if(type(message) == str):\n",
    "        temp = ''\n",
    "        for i in message:\n",
    "            temp = temp + format(ord(i), \"08b\")\n",
    "        return temp\n",
    "    elif(type(message) == bytes or type(message) == np.ndarray):\n",
    "        print(message)\n",
    "        temp = []\n",
    "        for i in message:\n",
    "            temp.append(format(i, \"08b\"))\n",
    "        return temp\n",
    "    elif(type(message) == int or type(message) == np.uint8):\n",
    "        return format(message, \"08b\")\n",
    "    else:\n",
    "        raise TypeError('Input Type not supported')\n"
   ]
  },
  {
   "cell_type": "code",
   "execution_count": 30,
   "metadata": {},
   "outputs": [
    {
     "name": "stdout",
     "output_type": "stream",
     "text": [
      "[13  2  5]\n",
      "['00001101', '00000010', '00000101']\n"
     ]
    }
   ],
   "source": [
    "#function to hide the secret message into the image\n",
    "def hideData(message, image):\n",
    "    #calculate total number of bits in the image\n",
    "    no_of_bits = image.shape[0]*image.shape[1]*3 #Since each element or pixel consists of 3 bits -> R,G,B\n",
    "\n",
    "    #calculate maximum number of bytes to be encoded\n",
    "    maximum_bytes_encoded = no_of_bits // 8\n",
    "    print('Maximum number of bytes to encode = ', maximum_bytes_encoded)\n",
    "\n",
    "    if(len(message) > maximum_bytes_encoded):\n",
    "        raise ValueError('Error : insufficient image size, warning : data loss')\n",
    "    \n",
    "    #set delimiter for the message\n",
    "    message = message + '***'\n",
    "\n",
    "    data_index = 0\n",
    "    no_of_pixels = image.shape[0]*image.shape[1]\n",
    "\n",
    "    #convert secret message to binary\n",
    "    binary_secret_message = messageToBinary(message)\n",
    "\n",
    "    #find length of the data that needs to be hidden\n",
    "    data_length = len(binary_secret_message)\n",
    "\n",
    "    for values in image:\n",
    "        for pixel in values:\n",
    "            #convert R, G, B to binary format\n",
    "            r, g, b = messageToBinary(pixel)\n",
    "\n",
    "            #modify the least significant bit (LSB) only if there is still data to store\n",
    "            if data_index<data_length:\n",
    "                #hide each bit of secret message into R, G, B's LSB\n",
    "                pixel[0] = int(r[:, -1] + binary_secret_message[data_index], 2)\n",
    "                pixel[1] = int(g[:, -1] + binary_secret_message[data_index], 2)\n",
    "                pixel[2] = int(b[:, -1] + binary_secret_message[data_index], 2)\n",
    "                data_index = data_index + 1\n",
    "            else:\n",
    "                break\n",
    "\n",
    "    return image                 \n",
    "\n",
    "\n",
    "\n",
    "\n"
   ]
  }
 ],
 "metadata": {
  "kernelspec": {
   "display_name": "Python 3.10.7 64-bit",
   "language": "python",
   "name": "python3"
  },
  "language_info": {
   "codemirror_mode": {
    "name": "ipython",
    "version": 3
   },
   "file_extension": ".py",
   "mimetype": "text/x-python",
   "name": "python",
   "nbconvert_exporter": "python",
   "pygments_lexer": "ipython3",
   "version": "3.10.7"
  },
  "orig_nbformat": 4,
  "vscode": {
   "interpreter": {
    "hash": "f60c67c8fc6558068c545c217476333b037001c0c5b1b6ed13d6c32b97b91284"
   }
  }
 },
 "nbformat": 4,
 "nbformat_minor": 2
}
