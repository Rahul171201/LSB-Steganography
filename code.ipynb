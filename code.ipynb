{
 "cells": [
  {
   "cell_type": "code",
   "execution_count": 31,
   "metadata": {},
   "outputs": [],
   "source": [
    "import numpy as np\n",
    "import types\n",
    "import cv2 as cv\n",
    "# cv.imshow() -> to display image"
   ]
  },
  {
   "cell_type": "code",
   "execution_count": 32,
   "metadata": {},
   "outputs": [],
   "source": [
    "#function to convert any type of data into binary\n",
    "def messageToBinary(message):\n",
    "    if(type(message) == str):\n",
    "        temp = ''\n",
    "        for i in message:\n",
    "            temp = temp + format(ord(i), \"08b\")\n",
    "        return temp\n",
    "    elif(type(message) == bytes or type(message) == np.ndarray):\n",
    "        print(message)\n",
    "        temp = []\n",
    "        for i in message:\n",
    "            temp.append(format(i, \"08b\"))\n",
    "        return temp\n",
    "    elif(type(message) == int or type(message) == np.uint8):\n",
    "        return format(message, \"08b\")\n",
    "    else:\n",
    "        raise TypeError('Input Type not supported')\n"
   ]
  },
  {
   "cell_type": "code",
   "execution_count": 33,
   "metadata": {},
   "outputs": [],
   "source": [
    "#function to hide the secret message into the image\n",
    "def hideData(message, image):\n",
    "    #calculate total number of bits in the image\n",
    "    no_of_bits = image.shape[0]*image.shape[1]*3 #Since each element or pixel consists of 3 bits -> R,G,B\n",
    "\n",
    "    #calculate maximum number of bytes to be encoded\n",
    "    maximum_bytes_encoded = no_of_bits // 8\n",
    "    print('Maximum number of bytes to encode = ', maximum_bytes_encoded)\n",
    "\n",
    "    if(len(message) > maximum_bytes_encoded):\n",
    "        raise ValueError('Error : insufficient image size, warning : data loss')\n",
    "    \n",
    "    #set delimiter for the message\n",
    "    message = message + '***'\n",
    "\n",
    "    data_index = 0\n",
    "    no_of_pixels = image.shape[0]*image.shape[1]\n",
    "\n",
    "    #convert secret message to binary\n",
    "    binary_secret_message = messageToBinary(message)\n",
    "\n",
    "    #find length of the data that needs to be hidden\n",
    "    data_length = len(binary_secret_message)\n",
    "\n",
    "    for values in image:\n",
    "        for pixel in values:\n",
    "            #convert R, G, B to binary format\n",
    "            r, g, b = messageToBinary(pixel)\n",
    "\n",
    "            #modify the least significant bit (LSB) only if there is still data to store\n",
    "            if data_index<data_length:\n",
    "                #hide each bit of secret message into R, G, B's LSB\n",
    "                pixel[0] = int(r[:, -1] + binary_secret_message[data_index], 2)\n",
    "                data_index = data_index + 1\n",
    "                if data_index>=data_length:\n",
    "                    break\n",
    "                pixel[1] = int(g[:, -1] + binary_secret_message[data_index], 2)\n",
    "                data_index = data_index + 1\n",
    "                if data_index>=data_length:\n",
    "                    break\n",
    "                pixel[2] = int(b[:, -1] + binary_secret_message[data_index], 2)\n",
    "                data_index = data_index + 1\n",
    "            else:\n",
    "                break\n",
    "\n",
    "    return image                 \n"
   ]
  },
  {
   "cell_type": "code",
   "execution_count": null,
   "metadata": {},
   "outputs": [],
   "source": [
    "#function to decode the message from the stego image\n",
    "def decodeMessage(image):\n",
    "    binary_data = ''\n",
    "    for values in image:\n",
    "        for pixel in values:\n",
    "            r, g, b = messageToBinary(pixel)\n",
    "            binary_data = binary_data + r[-1] #extracting data from the LSB of red pixel\n",
    "            binary_data = binary_data + g[-1] #extracting data from the LSB of green pixel\n",
    "            binary_data = binary_data + b[-1] #extracting data from the LSB of blue pixel\n",
    "\n",
    "    #split 8bits into one to convert to byte array\n",
    "    byte_array = []\n",
    "    for i in range(0, len(binary_data), 8):\n",
    "        temp = binary_data[i : i+8]\n",
    "        byte_array.append(temp)\n",
    "    \n",
    "    #convert bits to characters\n",
    "    decoded_data = ''\n",
    "    for item in byte_array:\n",
    "        decoded_data = decoded_data + chr(int(item,2))\n",
    "        #if we reached the end and encounter the delimiter\n",
    "        if decoded_data[:-3] == \"***\":\n",
    "            break\n",
    "    \n",
    "    #remove the delimiter to get the orifginal message back\n",
    "    return decoded_data[:-3]"
   ]
  },
  {
   "cell_type": "code",
   "execution_count": null,
   "metadata": {},
   "outputs": [],
   "source": [
    "#encode message into image\n",
    "def encodeMessage():\n",
    "\n",
    "    #Read the input image from user\n",
    "    image_name = input(\"Enter image name (with extension)\")\n",
    "    image = cv.imread(image_name)\n",
    "\n",
    "    print(\"The shape of the image is : \", image.shape)\n",
    "    print(\"The original image is as shown below\")\n",
    "    #Resize image\n",
    "    resized_image = cv.resize(image, (500,500))\n",
    "    cv.imshow((resized_image)) #display image\n",
    "\n",
    "    message = input('Enter the message to be encrypted')\n",
    "    if len(message) == 0:\n",
    "        raise ValueError('The message is empty')\n",
    "    \n",
    "    encoded_image = hideData(message, image)\n",
    "    filename = input('Enter the name of the new encoded file name to be saved (with extension)')\n",
    "    cv.imwrite(filename, encoded_image)"
   ]
  }
 ],
 "metadata": {
  "kernelspec": {
   "display_name": "Python 3.10.7 64-bit",
   "language": "python",
   "name": "python3"
  },
  "language_info": {
   "codemirror_mode": {
    "name": "ipython",
    "version": 3
   },
   "file_extension": ".py",
   "mimetype": "text/x-python",
   "name": "python",
   "nbconvert_exporter": "python",
   "pygments_lexer": "ipython3",
   "version": "3.10.7"
  },
  "orig_nbformat": 4,
  "vscode": {
   "interpreter": {
    "hash": "f60c67c8fc6558068c545c217476333b037001c0c5b1b6ed13d6c32b97b91284"
   }
  }
 },
 "nbformat": 4,
 "nbformat_minor": 2
}
