{
 "cells": [
  {
   "cell_type": "code",
   "execution_count": 25,
   "metadata": {},
   "outputs": [],
   "source": [
    "import numpy as np\n",
    "import types\n",
    "import cv2 as cv\n",
    "# cv.imshow() -> to display image"
   ]
  },
  {
   "cell_type": "code",
   "execution_count": 26,
   "metadata": {},
   "outputs": [],
   "source": [
    "#function to convert any type of data into binary\n",
    "def messageToBinary(message):\n",
    "    if(type(message) == str):\n",
    "        temp = ''\n",
    "        for i in message:\n",
    "            temp = temp + format(ord(i), \"08b\")\n",
    "        return temp\n",
    "    elif(type(message) == bytes or type(message) == np.ndarray):\n",
    "        print(message)\n",
    "        temp = []\n",
    "        for i in message:\n",
    "            temp.append(format(i, \"08b\"))\n",
    "        return temp\n",
    "    elif(type(message) == int or type(message) == np.uint8):\n",
    "        return format(message, \"08b\")\n",
    "    else:\n",
    "        raise TypeError('Input Type not supported')\n"
   ]
  },
  {
   "cell_type": "code",
   "execution_count": 27,
   "metadata": {},
   "outputs": [
    {
     "name": "stdout",
     "output_type": "stream",
     "text": [
      "[13  2  5]\n",
      "['1101', '0010', '0101']\n"
     ]
    }
   ],
   "source": [
    "a = np.array([13, 2, 5])\n",
    "print(messageToBinary(a))"
   ]
  }
 ],
 "metadata": {
  "kernelspec": {
   "display_name": "Python 3.10.7 64-bit",
   "language": "python",
   "name": "python3"
  },
  "language_info": {
   "codemirror_mode": {
    "name": "ipython",
    "version": 3
   },
   "file_extension": ".py",
   "mimetype": "text/x-python",
   "name": "python",
   "nbconvert_exporter": "python",
   "pygments_lexer": "ipython3",
   "version": "3.10.7"
  },
  "orig_nbformat": 4,
  "vscode": {
   "interpreter": {
    "hash": "f60c67c8fc6558068c545c217476333b037001c0c5b1b6ed13d6c32b97b91284"
   }
  }
 },
 "nbformat": 4,
 "nbformat_minor": 2
}
